{
  "nbformat": 4,
  "nbformat_minor": 0,
  "metadata": {
    "colab": {
      "provenance": [],
      "authorship_tag": "ABX9TyOPbO879zrQO4imOyOQJhoX",
      "include_colab_link": true
    },
    "kernelspec": {
      "name": "python3",
      "display_name": "Python 3"
    },
    "language_info": {
      "name": "python"
    }
  },
  "cells": [
    {
      "cell_type": "markdown",
      "metadata": {
        "id": "view-in-github",
        "colab_type": "text"
      },
      "source": [
        "<a href=\"https://colab.research.google.com/github/skughered/wet_finger_investing/blob/main/timing_luck_test.ipynb\" target=\"_parent\"><img src=\"https://colab.research.google.com/assets/colab-badge.svg\" alt=\"Open In Colab\"/></a>"
      ]
    },
    {
      "cell_type": "code",
      "execution_count": null,
      "metadata": {
        "id": "ZuzAZoPCDjRF"
      },
      "outputs": [],
      "source": [
        "!pip install tiingo\n",
        "!pip install matplotlib\n",
        "!pip install scipy\n",
        "\n",
        "import pandas as pd\n",
        "from tiingo import TiingoClient as tii\n",
        "from datetime import datetime as dt\n",
        "import numpy as np\n",
        "from scipy.stats import ttest_ind\n",
        "import matplotlib.pyplot as plt\n",
        "from statsmodels.tsa.ar_model import AutoReg\n",
        "import itertools\n",
        "import matplotlib.ticker as mticker\n"
      ]
    },
    {
      "cell_type": "code",
      "source": [
        "\n",
        "# API code\n",
        "def tiingo_data(metric_name='adjClose'):\n",
        "    # Your Tinngo.com API Token\n",
        "    api = '9c6d1991a2f70ee6e29f20df344feb9e1d90267d'\n",
        "\n",
        "    # Configuration\n",
        "    config = {'api_key': api, 'session': True}\n",
        "    client = tii(config)\n",
        "\n",
        "    # Instrument List\n",
        "    instrument_list = ['IEF', 'SPY']\n",
        "\n",
        "    # Fetching adjusted close prices since 31/07/2007\n",
        "    start_date = '2002-08-01'\n",
        "    # Dynamic end date (today's date)\n",
        "    end_date = dt.now().strftime('%Y-%m-%d')\n",
        "\n",
        "    # Get a DataFrame of adjusted close prices for the list of symbols\n",
        "    ticker_history = client.get_dataframe(instrument_list,\n",
        "                                          frequency='daily',\n",
        "                                          metric_name='adjClose',\n",
        "                                          startDate=start_date,\n",
        "                                          endDate=end_date)\n",
        "\n",
        "    ticker_history.index = pd.to_datetime(ticker_history.index)\n",
        "\n",
        "    return ticker_history\n",
        "\n",
        "\n",
        "# Using the function above create a price dataframe & also a daily percentage change dataframe\n",
        "load_etf_prices = tiingo_data(metric_name='adjClose')\n",
        "etf_pct_returns = load_etf_prices.pct_change()\n",
        "monthly_etf_rtns = etf_pct_returns.resample('M').sum()"
      ],
      "metadata": {
        "id": "uLNjLrDtDwDG"
      },
      "execution_count": null,
      "outputs": []
    },
    {
      "cell_type": "code",
      "source": [
        "def calculate_portfolio_returns(df):\n",
        "    # Define the rebalancing schedule\n",
        "    rebalance_months = ['January', 'February', 'March', 'April', 'May', 'June', 'July', 'August', 'September',\n",
        "                        'October', 'November', 'December']\n",
        "\n",
        "    # Initial weights\n",
        "    initial_weights = {'SPY': 0.6, 'IEF': 0.4}\n",
        "\n",
        "    # Initialize the portfolio values\n",
        "    portfolio_returns = pd.DataFrame(index=df.index)\n",
        "\n",
        "    # Initialize 12 portfolios\n",
        "    portfolios = {month: initial_weights.copy() for month in rebalance_months}\n",
        "\n",
        "    # Calculate portfolio returns for each month\n",
        "    for date in df.index:\n",
        "        month_name = date.month_name()\n",
        "        for rebalance_month, weights in portfolios.items():\n",
        "            # Check if it's time to rebalance this portfolio\n",
        "            if month_name == rebalance_month:\n",
        "                weights.update(initial_weights)\n",
        "\n",
        "            # Calculate new asset values after market drift\n",
        "            asset_values = {asset: weights[asset] * (1 + df.at[date, asset]) for asset in df.columns}\n",
        "\n",
        "            # Total value of the portfolio after drift\n",
        "            total_value = sum(asset_values.values())\n",
        "\n",
        "            # Recalculate weights based on new asset values\n",
        "            weights.update({asset: value / total_value for asset, value in asset_values.items()})\n",
        "\n",
        "            # Calculate the portfolio return for the month\n",
        "            portfolio_return = sum([df.at[date, asset] * weights[asset] for asset in df.columns])\n",
        "            portfolio_returns.at[date, f'Portfolio_{rebalance_month}'] = portfolio_return\n",
        "\n",
        "    return portfolio_returns\n",
        "\n",
        "\n",
        "portfolio_returns = calculate_portfolio_returns(monthly_etf_rtns)"
      ],
      "metadata": {
        "id": "LunutsD_DzSc"
      },
      "execution_count": null,
      "outputs": []
    },
    {
      "cell_type": "code",
      "source": [
        "# Check for stationarity and model autocorrelation\n",
        "ar_models = {}\n",
        "for column in portfolio_returns.columns:\n",
        "    model = AutoReg(portfolio_returns[column].dropna(), lags=1).fit()\n",
        "    ar_models[column] = model.resid\n",
        "\n",
        "# Pairwise t-tests\n",
        "p_values = []\n",
        "combinations = itertools.combinations(portfolio_returns.columns, 2)\n",
        "for combo in combinations:\n",
        "    stat, p = ttest_ind(ar_models[combo[0]], ar_models[combo[1]], equal_var=False)\n",
        "    p_values.append(p)\n",
        "\n",
        "# Bonferroni Correction\n",
        "alpha = 0.05\n",
        "p_adjusted = np.array(p_values) * len(p_values)\n",
        "significant_pairs = [i for i, p in enumerate(p_adjusted) if p < alpha]\n",
        "\n",
        "# Output results\n",
        "if significant_pairs:\n",
        "    print(\"Significant differences found in the following portfolio pairs:\")\n",
        "    for i in significant_pairs:\n",
        "        print(list(combinations)[i])\n",
        "else:\n",
        "    print(\"No significant differences found.\")"
      ],
      "metadata": {
        "id": "3o4RBGU0D2G9"
      },
      "execution_count": null,
      "outputs": []
    },
    {
      "cell_type": "code",
      "source": [
        "def plot_cumulative_returns(portfolio_returns):\n",
        "    # Calculate cumulative returns\n",
        "    cumulative_returns = (1 + portfolio_returns).cumprod()\n",
        "\n",
        "    # Plotting\n",
        "    plt.figure(figsize=(12, 8))\n",
        "    for column in cumulative_returns.columns:\n",
        "        plt.plot(cumulative_returns.index, cumulative_returns[column], label=column)\n",
        "\n",
        "    plt.yscale('log')  # Set the y-axis to a logarithmic scale\n",
        "    plt.xlabel('Date')\n",
        "    plt.ylabel('Cumulative Returns (Log Scale)')\n",
        "    plt.title('Log Plot of Cumulative Returns for Each Portfolio')\n",
        "    plt.legend()\n",
        "    plt.grid(True)\n",
        "    plt.show()\n",
        "\n",
        "\n",
        "plot_cumulative_returns(portfolio_returns)"
      ],
      "metadata": {
        "id": "cyv8G2kLD4Hl"
      },
      "execution_count": null,
      "outputs": []
    },
    {
      "cell_type": "code",
      "source": [
        "def plot_rolling_returns_and_spread(portfolio_returns):\n",
        "    # Calculate cumulative returns\n",
        "    cumulative_returns = (1 + portfolio_returns).cumprod()\n",
        "\n",
        "    # Calculate the rolling 12-month percentage change\n",
        "    rolling_returns = cumulative_returns.pct_change(periods=12)\n",
        "\n",
        "    # Calculate the spread\n",
        "    spread = rolling_returns.max(axis=1) - rolling_returns.min(axis=1)\n",
        "\n",
        "    # Creating subplots\n",
        "    fig, axs = plt.subplots(2, 1, figsize=(12, 7), sharex=True)\n",
        "\n",
        "    # Plot rolling returns\n",
        "    for column in rolling_returns.columns:\n",
        "        axs[0].plot(rolling_returns.index, rolling_returns[column], label=column)\n",
        "    axs[0].yaxis.set_major_formatter(mticker.PercentFormatter(1.0))\n",
        "    axs[0].set_ylabel('12-Month Rolling Return (%)')\n",
        "    axs[0].set_title('12-Month Rolling Percentage Change for Each Portfolio\\'s Cumulative Return')\n",
        "    axs[0].grid(True)\n",
        "\n",
        "    # Plot spread\n",
        "    axs[1].plot(spread.index, spread, color='red')\n",
        "    axs[1].yaxis.set_major_formatter(mticker.PercentFormatter(1.0))\n",
        "    axs[1].set_ylabel('Spread (%)')\n",
        "    axs[1].set_xlabel('Date')\n",
        "    axs[1].set_title('Spread Between Highest and Lowest Rolling Returns of Cumulative Return')\n",
        "    axs[1].grid(True)\n",
        "\n",
        "    plt.tight_layout()\n",
        "    plt.show()\n",
        "\n",
        "\n",
        "plot_rolling_returns_and_spread(portfolio_returns)"
      ],
      "metadata": {
        "id": "0OSaXTwqD6MU"
      },
      "execution_count": null,
      "outputs": []
    },
    {
      "cell_type": "code",
      "source": [
        "def calculate_luck_factor(portfolio_returns):\n",
        "    # Calculate the average return for each time period (row)\n",
        "    average_returns = portfolio_returns.mean(axis=1)\n",
        "\n",
        "    # Calculate deviations from the average for each portfolio\n",
        "    deviations = portfolio_returns.subtract(average_returns, axis=0)\n",
        "\n",
        "    return deviations\n",
        "\n",
        "\n",
        "luck_factors = calculate_luck_factor(portfolio_returns)\n",
        "\n",
        "# Sum of deviations through time for each portfolio\n",
        "cumulative_deviations = luck_factors.cumsum()\n",
        "\n",
        "# Plot Result\n",
        "cumulative_deviations.plot(figsize=(12, 6))\n",
        "plt.title('Cumulative Sum of Deviations from Average Over Time for Each Portfolio')\n",
        "plt.xlabel('Date')\n",
        "plt.ylabel('Cumulative Sum of Deviations')\n",
        "plt.axhline(0, color='grey', linewidth=0.8)\n",
        "plt.legend(title='Portfolios', bbox_to_anchor=(0.5, -0.1), loc='upper center', ncol=4)\n",
        "plt.subplots_adjust(bottom=0.1)\n",
        "plt.show()"
      ],
      "metadata": {
        "id": "xSc4ILETD8Qd"
      },
      "execution_count": null,
      "outputs": []
    }
  ]
}